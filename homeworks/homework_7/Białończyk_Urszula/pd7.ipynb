{
 "cells": [
  {
   "cell_type": "code",
   "execution_count": 18,
   "metadata": {},
   "outputs": [],
   "source": [
    "import pandas as pd\n",
    "from matplotlib import pyplot as plt"
   ]
  },
  {
   "cell_type": "code",
   "execution_count": 2,
   "metadata": {},
   "outputs": [
    {
     "data": {
      "text/plain": [
       "'/Users/urszulabialonczyk/Documents/Techniki Wizualizacji Danych'"
      ]
     },
     "execution_count": 2,
     "metadata": {},
     "output_type": "execute_result"
    }
   ],
   "source": [
    "import os\n",
    "os.getcwd()"
   ]
  },
  {
   "cell_type": "markdown",
   "metadata": {},
   "source": [
    "## Poprawiana wizualizacja\n",
    "W ramach zadania domowego nr 2 poprawiałam wykres temperatury zamieszczony na stronie tvn meteo (https://tvnmeteo.tvn24.pl/pogoda/krakow,17135/na-dzis-na-jutro,1.html?p=meteo). Wykresy te zmieniają się co godzinę, ja postanowiłam poprawić wykres temperatury w Krakowie 15.10.2020 od godziny 12:00 do 16.10.2020 do godziny 11:00. Wykres ten przedstawiał się następująco:\n",
    "![Wykres temperatury](h2.png)"
   ]
  },
  {
   "cell_type": "markdown",
   "metadata": {},
   "source": [
    "W ggplot, powyższy wykres poprawiłam w następujący sposób ([link do pracy domowej nr 2](https://github.com/mini-pw/2021Z-DataVisualizationTechniques/blob/master/homeworks/homework_2/Urszula_Bialonczyk/homework2.pdf)):\n",
    "![](pd2_ggplot.png)\n"
   ]
  },
  {
   "cell_type": "markdown",
   "metadata": {},
   "source": [
    "## Nowa wizualizacja"
   ]
  },
  {
   "cell_type": "code",
   "execution_count": 9,
   "metadata": {},
   "outputs": [],
   "source": [
    "temp = [9, 10, 10, 10, 10, 9, 8, 7, 6, 6, 5, 5, 5, 5, 5, 5, 5, 5, 4, 5, 5, 5, 5, 6]"
   ]
  },
  {
   "cell_type": "code",
   "execution_count": 15,
   "metadata": {},
   "outputs": [
    {
     "data": {
      "text/plain": [
       "['12:00:00',\n",
       " '13:00:00',\n",
       " '14:00:00',\n",
       " '15:00:00',\n",
       " '16:00:00',\n",
       " '17:00:00',\n",
       " '18:00:00',\n",
       " '19:00:00',\n",
       " '20:00:00',\n",
       " '21:00:00',\n",
       " '22:00:00',\n",
       " '23:00:00',\n",
       " '00:00:00',\n",
       " '01:00:00',\n",
       " '02:00:00',\n",
       " '03:00:00',\n",
       " '04:00:00',\n",
       " '05:00:00',\n",
       " '06:00:00',\n",
       " '07:00:00',\n",
       " '08:00:00',\n",
       " '09:00:00',\n",
       " '10:00:00',\n",
       " '11:00:00']"
      ]
     },
     "execution_count": 15,
     "metadata": {},
     "output_type": "execute_result"
    }
   ],
   "source": [
    "from datetime import datetime\n",
    "\n",
    "a = [str(datetime(2020, 10, 15, hr).time()) for hr in range(12,24)]\n",
    "b = [str(datetime(2020, 10, 16, hr).time()) for hr in range(0,12)]\n",
    "time = a + b\n",
    "time"
   ]
  },
  {
   "cell_type": "code",
   "execution_count": 17,
   "metadata": {},
   "outputs": [
    {
     "data": {
      "image/png": "[encoded data removed]",
      "text/plain": [
       "<Figure size 432x288 with 1 Axes>"
      ]
     },
     "metadata": {
      "needs_background": "light"
     },
     "output_type": "display_data"
    }
   ],
   "source": [
    "plt.scatter(time, temp)\n",
    "plt.plot(time, temp)\n",
    "plt.xticks(time, rotation='vertical')\n",
    "plt.ylabel('Temperatura (°C)')\n",
    "plt.xlabel('Godzina')\n",
    "plt.title(\"Temperatura 15.10.2020 godz.12:00 - 16.10.2020 godz. 11:00\", loc = \"center\")\n",
    "plt.show()"
   ]
  },
  {
   "cell_type": "markdown",
   "metadata": {},
   "source": [
    "## Czemu ostatni wykres jest lepszy od poprzednich?\n",
    "\n",
    "Typ wykresu jest taki sam, jednak jest lepiej opisany. Dodałam tytuł (akurat na stronie tvn meteo uważam, że nie jest potrzebny, ale w pracy domowej taki wykres jest trochę wyrwany z kontekstu, więc lepiej opisać, co on zawiera). Ponadto podałam jednostkę, w której mierzona jest temperatura oraz \"bardziej elegancko\" opisałam osie."
   ]
  },
  {
   "cell_type": "code",
   "execution_count": null,
   "metadata": {},
   "outputs": [],
   "source": []
  }
 ],
 "metadata": {
  "kernelspec": {
   "display_name": "Python 3",
   "language": "python",
   "name": "python3"
  },
  "language_info": {
   "codemirror_mode": {
    "name": "ipython",
    "version": 3
   },
   "file_extension": ".py",
   "mimetype": "text/x-python",
   "name": "python",
   "nbconvert_exporter": "python",
   "pygments_lexer": "ipython3",
   "version": "3.7.6"
  }
 },
 "nbformat": 4,
 "nbformat_minor": 4
}
