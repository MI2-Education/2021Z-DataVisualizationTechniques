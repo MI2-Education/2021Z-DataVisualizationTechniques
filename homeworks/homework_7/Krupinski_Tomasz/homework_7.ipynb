{
 "cells": [
  {
   "cell_type": "markdown",
   "metadata": {},
   "source": [
    "# Oryginalny wykres"
   ]
  },
  {
   "cell_type": "markdown",
   "metadata": {},
   "source": [
    "![](https://scontent-waw1-1.xx.fbcdn.net/v/t1.0-9/121811432_2935684239865722_2397204198439416773_o.png?_nc_cat=105&ccb=2&_nc_sid=730e14&_nc_ohc=XbyRd-n2UPEAX-bRonr&_nc_ht=scontent-waw1-1.xx&oh=0e6e691356d840c2d004f4ca2e012392&oe=5FE8CE86)"
   ]
  },
  {
   "cell_type": "markdown",
   "metadata": {},
   "source": [
    "[Źródło](https://www.facebook.com/ministerstwo.edukacji/photos/a.129261330508041/2935684233199056/)"
   ]
  },
  {
   "cell_type": "markdown",
   "metadata": {},
   "source": [
    "# Pierwszy raz poprawiona wizualizacja"
   ]
  },
  {
   "attachments": {},
   "cell_type": "markdown",
   "metadata": {},
   "source": [
    "![](https://scontent-waw1-1.xx.fbcdn.net/v/t1.15752-9/128281444_778284042724709_1572072695118332429_n.png?_nc_cat=111&ccb=2&_nc_sid=ae9488&_nc_ohc=ekSBXom_8loAX_aJVK-&_nc_ht=scontent-waw1-1.xx&oh=eecabad6ebd565680d01b629adc2deea&oe=5FE7C58A)"
   ]
  },
  {
   "cell_type": "markdown",
   "metadata": {},
   "source": [
    "[Źródło](https://github.com/mini-pw/2021Z-DataVisualizationTechniques/blob/master/homeworks/homework_2/Krupinski_Tomasz/homework2TWDRaport.pdf)"
   ]
  },
  {
   "cell_type": "markdown",
   "metadata": {},
   "source": [
    "# Drugi raz poprawiona wizualizacja"
   ]
  },
  {
   "cell_type": "code",
   "execution_count": 64,
   "metadata": {},
   "outputs": [
    {
     "data": {
      "image/png": "[encoded data removed]",
      "text/plain": [
       "<Figure size 432x288 with 1 Axes>"
      ]
     },
     "metadata": {
      "needs_background": "light"
     },
     "output_type": "display_data"
    }
   ],
   "source": [
    "import matplotlib.pyplot as plt\n",
    "import numpy as np\n",
    "\n",
    "amount = np.array([46327, 1604, 553])\n",
    "schoolType = np.array([\"tryb stacjonarny\", \"tryb mieszany\", \"tryb zdalny\"])\n",
    "\n",
    "plt.bar(schoolType, amount)\n",
    "plot = plt.gca()\n",
    "plot.set_yticks([0])\n",
    "plt.title(\"Liczba szkół pracujących w danym trybie\")\n",
    "for i, v in enumerate(amount):\n",
    "    plot.text(i, v + 400, str(v), ha=\"center\")\n",
    "plt.show()"
   ]
  },
  {
   "cell_type": "markdown",
   "metadata": {},
   "source": [
    "# Uzasadnienie"
   ]
  },
  {
   "cell_type": "markdown",
   "metadata": {},
   "source": [
    "Pierwszą poprawą, jest usunięcie \"ticków\" na OY, jako, że każdy słupek ma podpisaną wartość, nie ma sensu pokazywać gdzie jest 40-tysięcy, jak i innych wartości. Jedyną wartością, którą zostawiłem, jest pierwszy tick, który pokazuje, że wykres zaczyna się od zera. Również, w tym wykresie można tak napisać tytuł, by samym tytułem określić co jest na OY, więc nie ma sensu zmuszać odbiorcy do przekręcania głowy o 90° by przeczytał on, że jest to liczba szkół."
   ]
  }
 ],
 "metadata": {
  "kernelspec": {
   "display_name": "Python 3",
   "language": "python",
   "name": "python3"
  },
  "language_info": {
   "codemirror_mode": {
    "name": "ipython",
    "version": 3
   },
   "file_extension": ".py",
   "mimetype": "text/x-python",
   "name": "python",
   "nbconvert_exporter": "python",
   "pygments_lexer": "ipython3",
   "version": "3.8.3"
  }
 },
 "nbformat": 4,
 "nbformat_minor": 4
}
