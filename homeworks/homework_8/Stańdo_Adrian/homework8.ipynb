{
 "cells": [
  {
   "cell_type": "markdown",
   "metadata": {},
   "source": [
    "# Praca domowa nr 8"
   ]
  },
  {
   "cell_type": "markdown",
   "metadata": {},
   "source": [
    "## Wykres oryginalny\n",
    "![Wykres oryginalny](https://pbs.twimg.com/media/EnLFVfGXUAACBob?format=jpg&name=medium)"
   ]
  },
  {
   "cell_type": "markdown",
   "metadata": {},
   "source": [
    "Autor wykresu: Eurostat\n",
    "\n",
    "Link do strony źródłowej: [kliknij tutaj](https://twitter.com/EU_Eurostat/status/1329378890431614976/photo/1)"
   ]
  },
  {
   "cell_type": "markdown",
   "metadata": {},
   "source": [
    "## Moja propozycja wizualizacji"
   ]
  },
  {
   "cell_type": "code",
   "execution_count": 1,
   "metadata": {},
   "outputs": [],
   "source": [
    "import pandas as pd\n",
    "import numpy as np\n",
    "from matplotlib import pyplot as plt\n",
    "import seaborn as sns\n",
    "from matplotlib.ticker import FuncFormatter"
   ]
  },
  {
   "cell_type": "code",
   "execution_count": 2,
   "metadata": {},
   "outputs": [
    {
     "data": {
      "text/html": [
       "<div>\n",
       "<style scoped>\n",
       "    .dataframe tbody tr th:only-of-type {\n",
       "        vertical-align: middle;\n",
       "    }\n",
       "\n",
       "    .dataframe tbody tr th {\n",
       "        vertical-align: top;\n",
       "    }\n",
       "\n",
       "    .dataframe thead th {\n",
       "        text-align: right;\n",
       "    }\n",
       "</style>\n",
       "<table border=\"1\" class=\"dataframe\">\n",
       "  <thead>\n",
       "    <tr style=\"text-align: right;\">\n",
       "      <th></th>\n",
       "      <th>countries</th>\n",
       "      <th>wine</th>\n",
       "    </tr>\n",
       "  </thead>\n",
       "  <tbody>\n",
       "    <tr>\n",
       "      <th>0</th>\n",
       "      <td>Italy</td>\n",
       "      <td>5.500000e+09</td>\n",
       "    </tr>\n",
       "    <tr>\n",
       "      <th>1</th>\n",
       "      <td>Spain</td>\n",
       "      <td>4.300000e+09</td>\n",
       "    </tr>\n",
       "    <tr>\n",
       "      <th>2</th>\n",
       "      <td>France</td>\n",
       "      <td>3.400000e+09</td>\n",
       "    </tr>\n",
       "    <tr>\n",
       "      <th>3</th>\n",
       "      <td>Portugal</td>\n",
       "      <td>7.000000e+08</td>\n",
       "    </tr>\n",
       "    <tr>\n",
       "      <th>4</th>\n",
       "      <td>Germany</td>\n",
       "      <td>7.000000e+08</td>\n",
       "    </tr>\n",
       "    <tr>\n",
       "      <th>5</th>\n",
       "      <td>Hungary</td>\n",
       "      <td>4.000000e+08</td>\n",
       "    </tr>\n",
       "    <tr>\n",
       "      <th>6</th>\n",
       "      <td>Other</td>\n",
       "      <td>8.000000e+08</td>\n",
       "    </tr>\n",
       "  </tbody>\n",
       "</table>\n",
       "</div>"
      ],
      "text/plain": [
       "  countries          wine\n",
       "0     Italy  5.500000e+09\n",
       "1     Spain  4.300000e+09\n",
       "2    France  3.400000e+09\n",
       "3  Portugal  7.000000e+08\n",
       "4   Germany  7.000000e+08\n",
       "5   Hungary  4.000000e+08\n",
       "6     Other  8.000000e+08"
      ]
     },
     "execution_count": 2,
     "metadata": {},
     "output_type": "execute_result"
    }
   ],
   "source": [
    "countries = np.array([\"Italy\", \"Spain\", \"France\", \"Portugal\", \"Germany\", \"Hungary\", \"Other\"])\n",
    "wine = np.array([5.5, 4.3, 3.4, 0.7, 0.7, 0.4, 0.8])\n",
    "\n",
    "wine = wine * 10**9\n",
    "\n",
    "df = pd.DataFrame({'countries' : countries,\n",
    "                  'wine' : wine})\n",
    "\n",
    "df"
   ]
  },
  {
   "cell_type": "code",
   "execution_count": 7,
   "metadata": {},
   "outputs": [
    {
     "data": {
      "image/png": "[encoded data removed]",
      "text/plain": [
       "<Figure size 864x648 with 1 Axes>"
      ]
     },
     "metadata": {
      "needs_background": "light"
     },
     "output_type": "display_data"
    }
   ],
   "source": [
    "plt.rcParams['figure.figsize'] = [12, 9]\n",
    "\n",
    "sns.barplot(data = df, x = \"wine\", y = \"countries\",\n",
    "           color = \"#ad313b\", edgecolor = 'black', zorder=3)\n",
    "\n",
    "plt.ylabel(\"Country\", fontweight=\"bold\", fontsize = 12)\n",
    "plt.xlabel(\"Litres of wine\", fontweight=\"bold\", fontsize = 12)\n",
    "plt.title(\"Top wine producers in the EU, 2019\", \n",
    "          loc='center', fontsize = 16, fontweight=\"bold\")\n",
    "plt.xlim(0, 6.2*10**9)\n",
    "plt.grid(zorder=0, axis=\"x\")\n",
    "\n",
    "ax = plt.gca()\n",
    "ax.xaxis.set_major_formatter(FuncFormatter(lambda x, pos : '%1.0f billion' % (x*1e-9)))\n",
    "\n",
    "plt.show()"
   ]
  },
  {
   "cell_type": "markdown",
   "metadata": {},
   "source": [
    "## Co zostało poprawione?"
   ]
  },
  {
   "cell_type": "markdown",
   "metadata": {},
   "source": [
    "Na pierwotnym wykresie odpowiednie proporcje zostały przedstawione jako ilość wina w kieliszku. \n",
    "\n",
    "Pomysł na wykres uważam za ciekawy, a samo wykonanie profesjonalne i estetyczne.\n",
    "\n",
    "Problemem jest jednak to, że autor wykresu nie uwzględnił tego, że **kieliszek jest trójwymiarowy** (proporcje odpowiednich państw są takie, jakby był to zwykły skumulowany barplot na płaszczyźnie). A doskonale widzimy, że wykres powinien ponadto uwzględnić różne promienie kieliszka dla danej wysokości. Zapewne intencje autora były takie, by nie tworzyć iluzji, która powstaje w takich sytuacjach (kiedy obiekt 3D prezentuje wielkość danych). Jednakże, według mnie, jeśli ktoś przyjrzy się dokładniej wykresowi, ten zabieg jeszcze bardziej zaburza jego odbiór niż ewentualna iluzja trójwymiarowa.\n",
    "\n",
    "Ponadto, na wykresie początkowym procenty nie sumują się do 100%. Autor chciał przedstawić głównych producentów win w Unii Europejskiej. Jednak, według mnie, istotne jest zaznaczenie na wykresie jaką część stanowią inni producenci (czy jest to porównywalne do największego czy najmniejszego kraju). Taka informacja nie powinna wynikać z obliczeń procentowych, tylko powinna być widoczna.\n",
    "\n",
    "Moją propozycją na naprawę tego wykresu jest stworzenie zwykłego barplota z danych. Na nim na pewno nie będziemy musieli zastanawiać się czy autor uwzględnił trójwymiarową naturę kieliszka, czy nie. Ponadto, dodałem pole \"Other\", na którym widzimy, że inni producenci faktycznie mają dosyć mały wpływ w stosunku do reszty państw.\n",
    "\n",
    "Stworzona przeze mnie wizualizacja jest może mniej zaawansowana pod względem graficznym, jednak prostsza, bardziej minimalistyczna i łatwiejsza w odbiorze dla osób, których interesują dane, a nie ładny obrazek 🙂"
   ]
  }
 ],
 "metadata": {
  "kernelspec": {
   "display_name": "Python 3",
   "language": "python",
   "name": "python3"
  },
  "language_info": {
   "codemirror_mode": {
    "name": "ipython",
    "version": 3
   },
   "file_extension": ".py",
   "mimetype": "text/x-python",
   "name": "python",
   "nbconvert_exporter": "python",
   "pygments_lexer": "ipython3",
   "version": "3.7.6"
  }
 },
 "nbformat": 4,
 "nbformat_minor": 4
}
